{
 "cells": [
  {
   "cell_type": "code",
   "execution_count": 1,
   "id": "abdc8c6e-eb2e-4256-997f-69b785a2e3cd",
   "metadata": {},
   "outputs": [],
   "source": [
    "import pandas as pd\n",
    "import numpy as np\n",
    "import matplotlib.pyplot as plt\n",
    "import seaborn as sns\n",
    "from sklearn.model_selection import train_test_split\n",
    "from sklearn.linear_model import LinearRegression\n",
    "from sklearn.tree import DecisionTreeRegressor\n",
    "from sklearn.ensemble import RandomForestRegressor, GradientBoostingRegressor\n",
    "from sklearn.svm import SVR\n",
    "from sklearn.neighbors import KNeighborsRegressor\n",
    "from sklearn.metrics import r2_score, mean_squared_error\n",
    "\n",
    "# Load the dataset\n",
    "file_path = 'environmental_factors.csv'\n",
    "data = pd.read_csv(file_path)\n",
    "\n",
    "# Convert `date` to datetime and set it as the index\n",
    "data['date'] = pd.to_datetime(data['date'], format='%d-%m-%Y %H:%M')\n",
    "data.set_index('date', inplace=True)\n",
    "\n",
    "# Replace invalid values (e.g., -9999) with NaN for handling\n",
    "data.replace(-9999, np.nan, inplace=True)\n",
    "\n",
    "# Impute Missing Values using Interpolation\n",
    "data['wv'] = data['wv'].interpolate(method='time')\n",
    "data['max. PAR'] = data['max. PAR'].interpolate(method='time')\n",
    "\n",
    "# Outlier Detection and Handling (Capping using IQR)\n",
    "def cap_outliers(df, column):\n",
    "    Q1 = df[column].quantile(0.25)\n",
    "    Q3 = df[column].quantile(0.75)\n",
    "    IQR = Q3 - Q1\n",
    "    lower_bound = Q1 - 1.5 * IQR\n",
    "    upper_bound = Q3 + 1.5 * IQR\n",
    "    df[column] = np.clip(df[column], lower_bound, upper_bound)\n",
    "\n",
    "columns_to_cap = ['T', 'rh', 'rain', 'wv', 'max. PAR']\n",
    "for col in columns_to_cap:\n",
    "    cap_outliers(data, col)\n",
    "\n",
    "# Feature Engineering (Adding Time-Based Features)\n",
    "data['hour'] = data.index.hour\n",
    "data['day'] = data.index.day\n",
    "data['month'] = data.index.month\n",
    "data['weekofyear'] = data.index.isocalendar().week\n",
    "\n",
    "# Rolling averages for trend capture\n",
    "data['T_roll_mean'] = data['T'].rolling(window=3).mean()\n",
    "data['rh_roll_mean'] = data['rh'].rolling(window=3).mean()\n",
    "\n",
    "# Drop rows with NaN introduced by rolling averages\n",
    "data_cleaned = data.dropna()\n",
    "\n",
    "# Split the data into features (X) and target variables (y)\n",
    "X = data_cleaned.drop(['T', 'rh'], axis=1)\n",
    "y_T = data_cleaned['T']  # Target variable for Temperature\n",
    "y_rh = data_cleaned['rh']  # Target variable for Relative Humidity\n",
    "\n",
    "# Split into training and test sets\n",
    "X_train, X_test, y_train_T, y_test_T = train_test_split(X, y_T, test_size=0.2, random_state=42, shuffle=False)\n",
    "X_train, X_test, y_train_rh, y_test_rh = train_test_split(X, y_rh, test_size=0.2, random_state=42, shuffle=False)"
   ]
  },
  {
   "cell_type": "code",
   "execution_count": 4,
   "id": "1378f829-a5d8-4750-a3c0-c49a73355cd9",
   "metadata": {},
   "outputs": [
    {
     "name": "stdout",
     "output_type": "stream",
     "text": [
      "Linear Regression Results:\n",
      "Temperature R2: 0.9999955948614538\n",
      "Temperature MSE: 0.00010959609728820012\n",
      "Humidity R2: 0.9977355494294899\n",
      "Humidity MSE: 0.3032907669227803\n"
     ]
    }
   ],
   "source": [
    "from sklearn.linear_model import LinearRegression\n",
    "from sklearn.metrics import r2_score, mean_squared_error\n",
    "\n",
    "# Initialize and train the model\n",
    "model_lr = LinearRegression()\n",
    "model_lr.fit(X_train, y_train_T)\n",
    "\n",
    "# Predict Temperature (T)\n",
    "y_pred_T_lr = model_lr.predict(X_test)\n",
    "r2_T_lr = r2_score(y_test_T, y_pred_T_lr)\n",
    "mse_T_lr = mean_squared_error(y_test_T, y_pred_T_lr)\n",
    "\n",
    "# Predict Relative Humidity (rh)\n",
    "model_lr.fit(X_train, y_train_rh)\n",
    "y_pred_rh_lr = model_lr.predict(X_test)\n",
    "r2_rh_lr = r2_score(y_test_rh, y_pred_rh_lr)\n",
    "mse_rh_lr = mean_squared_error(y_test_rh, y_pred_rh_lr)\n",
    "\n",
    "# Print Results\n",
    "print(\"Linear Regression Results:\")\n",
    "print(f\"Temperature R2: {r2_T_lr}\")\n",
    "print(f\"Temperature MSE: {mse_T_lr}\")\n",
    "print(f\"Humidity R2: {r2_rh_lr}\")\n",
    "print(f\"Humidity MSE: {mse_rh_lr}\")\n"
   ]
  },
  {
   "cell_type": "code",
   "execution_count": 5,
   "id": "1b8e2999-0d2b-49cb-8cbb-ecfb88ebb9f9",
   "metadata": {},
   "outputs": [
    {
     "name": "stdout",
     "output_type": "stream",
     "text": [
      "Decision Tree Regressor Results:\n",
      "Temperature R2: 0.9999975827736874\n",
      "Temperature MSE: 6.013853306765323e-05\n",
      "Humidity R2: 0.9869724474369388\n",
      "Humidity MSE: 1.7448543410190722\n"
     ]
    }
   ],
   "source": [
    "from sklearn.tree import DecisionTreeRegressor\n",
    "from sklearn.metrics import r2_score, mean_squared_error\n",
    "\n",
    "# Initialize and train the model\n",
    "model_dt = DecisionTreeRegressor()\n",
    "model_dt.fit(X_train, y_train_T)\n",
    "\n",
    "# Predict Temperature (T)\n",
    "y_pred_T_dt = model_dt.predict(X_test)\n",
    "r2_T_dt = r2_score(y_test_T, y_pred_T_dt)\n",
    "mse_T_dt = mean_squared_error(y_test_T, y_pred_T_dt)\n",
    "\n",
    "# Predict Relative Humidity (rh)\n",
    "model_dt.fit(X_train, y_train_rh)\n",
    "y_pred_rh_dt = model_dt.predict(X_test)\n",
    "r2_rh_dt = r2_score(y_test_rh, y_pred_rh_dt)\n",
    "mse_rh_dt = mean_squared_error(y_test_rh, y_pred_rh_dt)\n",
    "\n",
    "# Print Results\n",
    "print(\"Decision Tree Regressor Results:\")\n",
    "print(f\"Temperature R2: {r2_T_dt}\")\n",
    "print(f\"Temperature MSE: {mse_T_dt}\")\n",
    "print(f\"Humidity R2: {r2_rh_dt}\")\n",
    "print(f\"Humidity MSE: {mse_rh_dt}\")\n"
   ]
  },
  {
   "cell_type": "code",
   "execution_count": 6,
   "id": "8d97bad4-dbff-42d6-968f-4e2f3f65e489",
   "metadata": {},
   "outputs": [
    {
     "name": "stdout",
     "output_type": "stream",
     "text": [
      "Random Forest Regressor Results:\n",
      "Temperature R2: 0.9999986202099593\n",
      "Temperature MSE: 3.4328001707941535e-05\n",
      "Humidity R2: 0.9954754806330234\n",
      "Humidity MSE: 0.6059946578821528\n"
     ]
    }
   ],
   "source": [
    "from sklearn.ensemble import RandomForestRegressor\n",
    "from sklearn.metrics import r2_score, mean_squared_error\n",
    "\n",
    "# Initialize and train the model\n",
    "model_rf = RandomForestRegressor()\n",
    "model_rf.fit(X_train, y_train_T)\n",
    "\n",
    "# Predict Temperature (T)\n",
    "y_pred_T_rf = model_rf.predict(X_test)\n",
    "r2_T_rf = r2_score(y_test_T, y_pred_T_rf)\n",
    "mse_T_rf = mean_squared_error(y_test_T, y_pred_T_rf)\n",
    "\n",
    "# Predict Relative Humidity (rh)\n",
    "model_rf.fit(X_train, y_train_rh)\n",
    "y_pred_rh_rf = model_rf.predict(X_test)\n",
    "r2_rh_rf = r2_score(y_test_rh, y_pred_rh_rf)\n",
    "mse_rh_rf = mean_squared_error(y_test_rh, y_pred_rh_rf)\n",
    "\n",
    "# Print Results\n",
    "print(\"Random Forest Regressor Results:\")\n",
    "print(f\"Temperature R2: {r2_T_rf}\")\n",
    "print(f\"Temperature MSE: {mse_T_rf}\")\n",
    "print(f\"Humidity R2: {r2_rh_rf}\")\n",
    "print(f\"Humidity MSE: {mse_rh_rf}\")\n"
   ]
  },
  {
   "cell_type": "code",
   "execution_count": 7,
   "id": "ba011c0b-8ec8-44a5-b3ea-3a895053811a",
   "metadata": {},
   "outputs": [
    {
     "name": "stdout",
     "output_type": "stream",
     "text": [
      "Gradient Boosting Regressor Results:\n",
      "Temperature R2: 0.9997923087196665\n",
      "Temperature MSE: 0.005167182263863036\n",
      "Humidity R2: 0.9955395378910785\n",
      "Humidity MSE: 0.5974151043358977\n"
     ]
    }
   ],
   "source": [
    "from sklearn.ensemble import GradientBoostingRegressor\n",
    "from sklearn.metrics import r2_score, mean_squared_error\n",
    "\n",
    "# Initialize and train the model\n",
    "model_gb = GradientBoostingRegressor()\n",
    "model_gb.fit(X_train, y_train_T)\n",
    "\n",
    "# Predict Temperature (T)\n",
    "y_pred_T_gb = model_gb.predict(X_test)\n",
    "r2_T_gb = r2_score(y_test_T, y_pred_T_gb)\n",
    "mse_T_gb = mean_squared_error(y_test_T, y_pred_T_gb)\n",
    "\n",
    "# Predict Relative Humidity (rh)\n",
    "model_gb.fit(X_train, y_train_rh)\n",
    "y_pred_rh_gb = model_gb.predict(X_test)\n",
    "r2_rh_gb = r2_score(y_test_rh, y_pred_rh_gb)\n",
    "mse_rh_gb = mean_squared_error(y_test_rh, y_pred_rh_gb)\n",
    "\n",
    "# Print Results\n",
    "print(\"Gradient Boosting Regressor Results:\")\n",
    "print(f\"Temperature R2: {r2_T_gb}\")\n",
    "print(f\"Temperature MSE: {mse_T_gb}\")\n",
    "print(f\"Humidity R2: {r2_rh_gb}\")\n",
    "print(f\"Humidity MSE: {mse_rh_gb}\")\n"
   ]
  },
  {
   "cell_type": "code",
   "execution_count": null,
   "id": "11d78f24-e1e2-492f-9751-5632f117b791",
   "metadata": {},
   "outputs": [],
   "source": []
  }
 ],
 "metadata": {
  "kernelspec": {
   "display_name": "Python 3 (ipykernel)",
   "language": "python",
   "name": "python3"
  },
  "language_info": {
   "codemirror_mode": {
    "name": "ipython",
    "version": 3
   },
   "file_extension": ".py",
   "mimetype": "text/x-python",
   "name": "python",
   "nbconvert_exporter": "python",
   "pygments_lexer": "ipython3",
   "version": "3.12.4"
  }
 },
 "nbformat": 4,
 "nbformat_minor": 5
}
